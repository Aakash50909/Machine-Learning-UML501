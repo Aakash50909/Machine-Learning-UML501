{
  "nbformat": 4,
  "nbformat_minor": 0,
  "metadata": {
    "colab": {
      "provenance": [],
      "authorship_tag": "ABX9TyOmwiz0Lyqz8YBSR1ZiuHu5",
      "include_colab_link": true
    },
    "kernelspec": {
      "name": "python3",
      "display_name": "Python 3"
    },
    "language_info": {
      "name": "python"
    }
  },
  "cells": [
    {
      "cell_type": "markdown",
      "metadata": {
        "id": "view-in-github",
        "colab_type": "text"
      },
      "source": [
        "<a href=\"https://colab.research.google.com/github/Aakash50909/Machine-Learning-UML501/blob/main/Assignment_1.ipynb\" target=\"_parent\"><img src=\"https://colab.research.google.com/assets/colab-badge.svg\" alt=\"Open In Colab\"/></a>"
      ]
    },
    {
      "cell_type": "code",
      "execution_count": 3,
      "metadata": {
        "colab": {
          "base_uri": "https://localhost:8080/"
        },
        "id": "TnmS2Co9AgTi",
        "outputId": "6fd4011a-a4ca-48dd-bd24-c6aff81d4b14"
      },
      "outputs": [
        {
          "output_type": "stream",
          "name": "stdout",
          "text": [
            "[5 4 3 2 1]\n"
          ]
        }
      ],
      "source": [
        "import numpy as np\n",
        "arr=np.array([1,2,3,4,5])\n",
        "print(np.flip(arr))"
      ]
    },
    {
      "cell_type": "code",
      "source": [
        "array1=np.array([[1,2,3],[2,4,5],[1,2,3]])\n",
        "print(np.ndarray.flatten(array1))\n",
        "print(np.ravel(array1))"
      ],
      "metadata": {
        "colab": {
          "base_uri": "https://localhost:8080/"
        },
        "id": "zuxsbragBNWi",
        "outputId": "8ccfd6a1-9b6b-435e-f166-625d99aa769c"
      },
      "execution_count": 8,
      "outputs": [
        {
          "output_type": "stream",
          "name": "stdout",
          "text": [
            "[1 2 3 2 4 5 1 2 3]\n",
            "[1 2 3 2 4 5 1 2 3]\n"
          ]
        }
      ]
    },
    {
      "cell_type": "code",
      "source": [
        "arr1=np.array([[1,2],[3,4]])\n",
        "arr2=np.array([[1,2],[3,4]])\n",
        "print(arr1==arr2)"
      ],
      "metadata": {
        "colab": {
          "base_uri": "https://localhost:8080/"
        },
        "id": "PXN54OzHCcye",
        "outputId": "700e361c-ae39-4d37-bbf7-8b096e8c3c95"
      },
      "execution_count": 9,
      "outputs": [
        {
          "output_type": "stream",
          "name": "stdout",
          "text": [
            "[[ True  True]\n",
            " [ True  True]]\n"
          ]
        }
      ]
    },
    {
      "cell_type": "code",
      "source": [
        "x=np.array([1,2,3,4,5,1,2,1,1,1])\n",
        "y=np.array([1,1,1,2,3,4,2,4,3,3])\n",
        "counts = np.bincount(x)\n",
        "print(np.argmax(counts))\n",
        "print(np.where(x==np.argmax(counts)))\n",
        "counts = np.bincount(y)\n",
        "print(np.argmax(counts))\n",
        "print(np.where(y==np.argmax(counts)))"
      ],
      "metadata": {
        "colab": {
          "base_uri": "https://localhost:8080/"
        },
        "id": "-9qIXAifDW6d",
        "outputId": "a76a73a8-9605-43c1-85ab-4b2c795a7dbf"
      },
      "execution_count": 17,
      "outputs": [
        {
          "output_type": "stream",
          "name": "stdout",
          "text": [
            "1\n",
            "(array([0, 5, 7, 8, 9]),)\n",
            "1\n",
            "(array([0, 1, 2]),)\n"
          ]
        }
      ]
    },
    {
      "cell_type": "code",
      "source": [
        "gfg=np.matrix('[4,1,9;12,3,1;4,5,6]')\n",
        "print(np.sum(gfg))\n",
        "print(np.sum(gfg,axis=0))\n",
        "print(np.sum(gfg,axis=1))\n"
      ],
      "metadata": {
        "colab": {
          "base_uri": "https://localhost:8080/"
        },
        "id": "LTBgWQEID7Qc",
        "outputId": "551e08d6-7f54-4b43-ba07-caf4c88bf7f7"
      },
      "execution_count": 23,
      "outputs": [
        {
          "output_type": "stream",
          "name": "stdout",
          "text": [
            "45\n",
            "[[20  9 16]]\n",
            "[[14]\n",
            " [16]\n",
            " [15]]\n"
          ]
        }
      ]
    },
    {
      "cell_type": "code",
      "source": [
        "n_array=np.array([[55,25,15],[30,44,2],[11,45,77]])\n",
        "print(np.sum(np.diag(n_array)))\n",
        "print(np.linalg.eig(n_array))\n",
        "print(np.linalg.inv(n_array))\n",
        "print(np.linalg.det(n_array))"
      ],
      "metadata": {
        "colab": {
          "base_uri": "https://localhost:8080/"
        },
        "id": "d9Txg9wMFy57",
        "outputId": "727bc7d4-bbf3-447d-835c-6141a0087616"
      },
      "execution_count": 36,
      "outputs": [
        {
          "output_type": "stream",
          "name": "stdout",
          "text": [
            "176\n",
            "EigResult(eigenvalues=array([98.16835147, 28.097044  , 49.73460452]), eigenvectors=array([[ 0.4574917 ,  0.34637121, -0.15017693],\n",
            "       [ 0.28447814, -0.72784061, -0.4852124 ],\n",
            "       [ 0.84248058,  0.59184038,  0.8614034 ]]))\n",
            "[[ 0.02404141 -0.00911212 -0.00444671]\n",
            " [-0.01667882  0.02966905  0.0024785 ]\n",
            " [ 0.00631287 -0.01603732  0.01217379]]\n",
            "137180.0000000001\n"
          ]
        }
      ]
    },
    {
      "cell_type": "code",
      "source": [],
      "metadata": {
        "id": "BKnxe7XhHBhh"
      },
      "execution_count": null,
      "outputs": []
    }
  ]
}